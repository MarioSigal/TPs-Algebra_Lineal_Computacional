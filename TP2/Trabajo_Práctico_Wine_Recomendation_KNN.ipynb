{
 "cells": [
  {
   "cell_type": "markdown",
   "metadata": {},
   "source": [
    "#### Trabajo Práctico N° 2\n",
    "##### Sistemas de Recomendación\n",
    "Facultad de Ciencias Exactas y Naturales\n",
    "\n",
    "Álgebra Lineal Computacional 2°C 2023\n",
    "\n",
    "Luca Jaichenco ~ 591/22 |Mario Sigal Aguirre ~ 157/22"
   ]
  },
  {
   "cell_type": "code",
   "execution_count": 2,
   "metadata": {},
   "outputs": [],
   "source": [
    "#imports\n",
    "import pandas as pd\n",
    "import numpy as np\n",
    "import matplotlib.pyplot as plt"
   ]
  },
  {
   "cell_type": "markdown",
   "metadata": {},
   "source": [
    "#### Ejercicio 1: Pasos para implementar un sistema de recomendación de vinos\n",
    "\n",
    "Se siguieron los pasos descritos en el trabajo practico y en el archivo auxiliar para la creación de un sistema de recomendación de vinos."
   ]
  },
  {
   "cell_type": "markdown",
   "metadata": {},
   "source": [
    "#### (a) Descargar los datos"
   ]
  },
  {
   "cell_type": "code",
   "execution_count": 3,
   "metadata": {},
   "outputs": [],
   "source": [
    "df_wine = pd.read_csv('./wine.csv')"
   ]
  },
  {
   "cell_type": "markdown",
   "metadata": {},
   "source": [
    "#### (b) Separar los datos en variables independientes (X) y dependiente (Y)."
   ]
  },
  {
   "cell_type": "code",
   "execution_count": 4,
   "metadata": {},
   "outputs": [],
   "source": [
    "# Variables independientes:\n",
    "variables_independientes = ['Alcohol', 'Malic_Acid', 'Ash', 'Ash_Alcanity', 'Magnesium',\n",
    "                            'Total_Phenols', 'Flavanoids', 'Nonflavanoid_Phenols',\n",
    "                            'Proanthocyanins', 'Color_Intensity', 'Hue', 'OD280', 'Proline']\n",
    "df_wine_independientes = df_wine[variables_independientes]\n",
    "\n",
    "# Variable dependiente:\n",
    "variables_dependientes =['Customer_Segment']\n",
    "df_wine_dependientes = df_wine[variables_dependientes]"
   ]
  },
  {
   "cell_type": "markdown",
   "metadata": {},
   "source": [
    "#### (c) Normalizar y centrar los datos.\n",
    "Se pide construir una función en python que normalice y centre los valores respecto del promedio. Es decir, aplicar a cada variable independiente:\n",
    "1. $ xi = (X_i - \\bar{X})/s $ \n",
    "\n",
    "2. $ \\bar{X} = (\\sum_{i=1}^{N} X_i) /N  $\n",
    "\n",
    "3. $ s = \\sqrt{\\frac{1}{N-1} \\sum_{i=1}^{N} (X_i - \\bar{X})^2} $"
   ]
  },
  {
   "cell_type": "code",
   "execution_count": 5,
   "metadata": {},
   "outputs": [],
   "source": [
    "#función que normaliza y centra respecto del promedio \n",
    "def normalizacion(X):# recibe un Data Frame que contenga solamente las variables independientes    \n",
    "    \n",
    "    # inicialización de variables\n",
    "    mean = np.mean(X, axis=0)\n",
    "    s = np.std(X, axis=0)\n",
    "    X_norm = (X - mean) / s\n",
    "    \n",
    "    return X_norm, mean, s"
   ]
  },
  {
   "cell_type": "code",
   "execution_count": 14,
   "metadata": {},
   "outputs": [
    {
     "data": {
      "text/plain": [
       "Alcohol                -8.382808e-16\n",
       "Malic_Acid             -1.197544e-16\n",
       "Ash                    -8.370333e-16\n",
       "Ash_Alcanity           -3.991813e-17\n",
       "Magnesium              -3.991813e-17\n",
       "Total_Phenols           0.000000e+00\n",
       "Flavanoids             -3.991813e-16\n",
       "Nonflavanoid_Phenols    3.592632e-16\n",
       "Proanthocyanins        -1.197544e-16\n",
       "Color_Intensity         2.494883e-17\n",
       "Hue                     1.995907e-16\n",
       "OD280                   3.193450e-16\n",
       "Proline                -1.596725e-16\n",
       "dtype: float64"
      ]
     },
     "execution_count": 14,
     "metadata": {},
     "output_type": "execute_result"
    }
   ],
   "source": [
    "df_wine_independientes_norm, mean, s = normalizacion(df_wine_independientes)\n",
    "X_norm.mean(axis=0)"
   ]
  },
  {
   "cell_type": "markdown",
   "metadata": {},
   "source": [
    "Normalizar un conjunto de datos es importante por varias razones:\n",
    "En principio queremos que las variables tengan las mismas escala y mismo rango, pues de no tenerlas, la matriz de covarianza podría verse afectada, dando más peso a las variables con escalas más grandes y haciendo que las variables con rangos más pequeños tengan una contribución mínima. La normalización asegura que todas las variables tengan la misma escala y rango.\n",
    "A su ves  la normalización facilita la interpretación de la matriz de covarianza y de los resultados de PCA ya que como los componentes principales proporcionan información sobre la contribución de cada variable a la variabilidad total, normalizar hace que nos sea posible comparar estas contribuciones de manera optima."
   ]
  },
  {
   "cell_type": "markdown",
   "metadata": {},
   "source": [
    "#### (d) Calcular la matriz de covarianza\n",
    "$cov(b) = \\frac{b^{*}b}{n-1}$ "
   ]
  },
  {
   "cell_type": "code",
   "execution_count": 15,
   "metadata": {},
   "outputs": [],
   "source": [
    "#pasamos el data frame a una matriz\n",
    "matriz_wine_norm = df_wine_independientes_norm.values\n",
    "\n",
    "#calculamos la matriz de covarianza\n",
    "wine_cov = (matriz_wine_norm.T @ matriz_wine_norm)/177"
   ]
  },
  {
   "cell_type": "markdown",
   "metadata": {},
   "source": [
    "La matriz de covarianza describe la relación entre las variables de nuestro data frame. Los elementos en la posición $(i,j)$  de la matriz se encuentran entre menos uno y uno [-1,1] y representan la covarianza entre las variables $ X_i$ y $X_j$: \n",
    "Si el elemento es cercano a uno indica una relación positiva, Cuando $X_i$ tiende a ser grande, $X_j$ también tiende a ser grande, y viceversa.\n",
    "Si el elemento es cercano a menos uno indica una relación negativa. Cuando $X_i$ tiende a ser grande,$X_j$ tiende a ser pequeño, y viceversa.\n",
    "Si el elemento es cercano a cero indica que no existe una relación precisa \n",
    "Es de dimension $n \\times n$ y en nuestro caso $ 13 \\times 13. cumple las propiedades de ser Simétrica y Definida Positiva"
   ]
  },
  {
   "cell_type": "markdown",
   "metadata": {},
   "source": [
    "#### (e) Encontrar el máximo autovalor y el correspondiente autovector de la matriz de covarianza  por el método de la potencia"
   ]
  },
  {
   "cell_type": "code",
   "execution_count": 8,
   "metadata": {},
   "outputs": [],
   "source": [
    "\n",
    "def metodo_potencia(m, its=100):\n",
    "  \n",
    "    v = np.random.rand(m.shape[0])  # Inicializar un vector aleatorio\n",
    "    for i in range(its):\n",
    "        v = np.dot(m, v)\n",
    "        v = v / np.linalg.norm(v)  # Normalizar el vector en cada iteración\n",
    "    \n",
    "    AutoValor = np.dot(np.dot(m, v), v) / np.dot(v, v) \n",
    "    AutoVector = v\n",
    "    return AutoValor, AutoVector\n",
    "\n",
    "# max_Aval_wine_cov, Avec_de_max_Aval_wine_cov = metodo_potencia(wine_cov)\n",
    "\n",
    "# print(max_Aval_wine_cov, Avec_de_max_Aval_wine_cov)"
   ]
  },
  {
   "cell_type": "code",
   "execution_count": 20,
   "metadata": {},
   "outputs": [],
   "source": [
    "#(f)\n",
    "def todos_Avals_Avecs(A, n):\n",
    "    Avals = []\n",
    "    Avects = []\n",
    "    Aval = 0\n",
    "    Avect = np.zeros(A.shape[0])\n",
    "    for i in range(0,n):\n",
    "        A = A - Aval*np.outer(Avect,Avect)\n",
    "        Aval, Avect = metodo_potencia(A)\n",
    "        Avals.append(round(Aval, 5))\n",
    "        Avects.append(Avect)\n",
    "    return Avals, Avects\n"
   ]
  },
  {
   "cell_type": "code",
   "execution_count": null,
   "metadata": {},
   "outputs": [],
   "source": [
    "#(g)\n",
    "# buscamos autovalores y autovectores de la matriz de covarianza\n",
    "# Avals, Avects = todos_Avals_Avects(wine_cov, 13)\n",
    "\n",
    "# Sea V  la matriz con los autovectores por columnas  \n",
    "# V = np.array(Avects).T\n",
    "# # Sea D la matriz diagonal con los autovalores en la diagonal ordenados de mayor a menor\n",
    "# D = np.diag(Avals)\n",
    "\n",
    "# decidimos tomar como los autovalores mas relevantes a los primeros 3"
   ]
  },
  {
   "cell_type": "code",
   "execution_count": 21,
   "metadata": {},
   "outputs": [],
   "source": [
    "def distancia(v1,v2):\n",
    "    x = 0\n",
    "    for i in  range(v1.shape[0]):\n",
    "        x += (v1[i]-v2[i])**2\n",
    "    return np.sqrt(x)\n",
    "\n",
    "\n",
    "def KNN(T_clasif, T_train, Y_train, K): # devuelve Y_estimado\n",
    "    Y_estimado = []\n",
    "    for i in range(len(T_clasif)):\n",
    "        # Calculo las distancias\n",
    "        distancias = []\n",
    "        for j in range(len(T_train)):\n",
    "            distancias.append((distancia(T_clasif[i],T_train[j]), j))\n",
    "        # Ordeno las distancias, manteniendo el indice de la fila\n",
    "        distancias.sort()\n",
    "        # Calculo los resultados\n",
    "        resultados = {\n",
    "            1:0,\n",
    "            2:0,\n",
    "            3:0\n",
    "        }\n",
    "        for k in range(K):\n",
    "            resultados[Y_train[distancias[k][1]]] += 1\n",
    "        # Agrego el resultado que mas veces apareció en los k vecinos mas cercanos\n",
    "        Y_estimado.append(max(resultados, key=resultados.get))\n",
    "    return Y_estimado"
   ]
  },
  {
   "cell_type": "code",
   "execution_count": 12,
   "metadata": {},
   "outputs": [],
   "source": [
    "# Separo los datos en train y test\n",
    "from sklearn.model_selection import train_test_split"
   ]
  },
  {
   "cell_type": "code",
   "execution_count": 23,
   "metadata": {},
   "outputs": [
    {
     "name": "stdout",
     "output_type": "stream",
     "text": [
      "0.05555555555555555\n"
     ]
    }
   ],
   "source": [
    "# Dividimos el dataframe normalizado en casos de train y en casos de test\n",
    "X_train, X_test, Y_train, Y_test = train_test_split(df_wine_independientes_norm, df_wine_dependientes, test_size=0.2, random_state=0)\n",
    "\n",
    "# Definimos la matriz de covarianza para los casos de train\n",
    "X_train_cov = (X_train.T @ X_train)/len(X_train)\n",
    "\n",
    "# buscamos autovalores y autovectores de la matriz de covarianza\n",
    "Avals, Avects = todos_Avals_Avecs(X_train_cov, 13)\n",
    "\n",
    "# Sea V  la matriz con los autovectores por columnas  \n",
    "V = np.array(Avects).T\n",
    "\n",
    "CP = 4 # Cantidad de componentes principales\n",
    "K = 5 # Nearest neigbours\n",
    "\n",
    "# Calculo las componentes principales\n",
    "T_train = (X_train @ V[:,:CP]).values # el .values convierte el df en un np array\n",
    "T_test = (X_test @ V[:,:CP]).values\n",
    "\n",
    "Y_train = Y_train['Customer_Segment'].to_numpy() # Agarra la columna 'Customer_Segment' y la convierte en un np array\n",
    "Y_test = Y_test['Customer_Segment'].to_numpy()\n",
    "\n",
    "# Calculo el Y estimado\n",
    "Y_estimado = KNN(T_test, T_train, Y_train, K)\n",
    "\n",
    "# Calculo el error\n",
    "error = 0\n",
    "for i in range(len(Y_test)):\n",
    "    if Y_test[i] != Y_estimado[i]:\n",
    "        error += 1\n",
    "error = error/len(Y_test)\n",
    "\n",
    "print(error)"
   ]
  },
  {
   "cell_type": "code",
   "execution_count": 85,
   "metadata": {},
   "outputs": [],
   "source": [
    "def clasif_PCA(clasif, X_train, Y_train, CP, K):\n",
    "    X_train_norm, train_mean, train_s = normalizacion(X_train)\n",
    "    clasif_norm = (clasif - train_mean) / train_s\n",
    "\n",
    "    X_cov = (X_train_norm.T @ X_train_norm) / len(X_train_norm)\n",
    "    Avals, Avecs = todos_Avals_Avecs(X_cov, X_cov.shape[0])\n",
    "\n",
    "    # Sea V  la matriz con los autovectores por columnas  \n",
    "    V = np.array(Avecs).T\n",
    "\n",
    "    # Calculo las componentes principales\n",
    "    T_train = (X_train_norm @ V[:,:CP])\n",
    "    T_clasif = (clasif_norm @ V[:,:CP])\n",
    "\n",
    "    return KNN(T_clasif, T_train, Y_train, K), Avals[:CP]\n"
   ]
  },
  {
   "cell_type": "code",
   "execution_count": 35,
   "metadata": {},
   "outputs": [],
   "source": [
    "from fractions import Fraction"
   ]
  },
  {
   "cell_type": "code",
   "execution_count": 79,
   "metadata": {},
   "outputs": [
    {
     "name": "stdout",
     "output_type": "stream",
     "text": [
      "2 / 36 = 0.05555555555555555\n"
     ]
    },
    {
     "data": {
      "text/html": [
       "<div>\n",
       "<style scoped>\n",
       "    .dataframe tbody tr th:only-of-type {\n",
       "        vertical-align: middle;\n",
       "    }\n",
       "\n",
       "    .dataframe tbody tr th {\n",
       "        vertical-align: top;\n",
       "    }\n",
       "\n",
       "    .dataframe thead th {\n",
       "        text-align: right;\n",
       "    }\n",
       "</style>\n",
       "<table border=\"1\" class=\"dataframe\">\n",
       "  <thead>\n",
       "    <tr style=\"text-align: right;\">\n",
       "      <th></th>\n",
       "      <th>estimados</th>\n",
       "      <th>reales</th>\n",
       "    </tr>\n",
       "  </thead>\n",
       "  <tbody>\n",
       "    <tr>\n",
       "      <th>0</th>\n",
       "      <td>2</td>\n",
       "      <td>2</td>\n",
       "    </tr>\n",
       "    <tr>\n",
       "      <th>1</th>\n",
       "      <td>1</td>\n",
       "      <td>1</td>\n",
       "    </tr>\n",
       "    <tr>\n",
       "      <th>2</th>\n",
       "      <td>2</td>\n",
       "      <td>2</td>\n",
       "    </tr>\n",
       "    <tr>\n",
       "      <th>3</th>\n",
       "      <td>2</td>\n",
       "      <td>2</td>\n",
       "    </tr>\n",
       "    <tr>\n",
       "      <th>4</th>\n",
       "      <td>1</td>\n",
       "      <td>2</td>\n",
       "    </tr>\n",
       "    <tr>\n",
       "      <th>5</th>\n",
       "      <td>1</td>\n",
       "      <td>1</td>\n",
       "    </tr>\n",
       "    <tr>\n",
       "      <th>6</th>\n",
       "      <td>3</td>\n",
       "      <td>2</td>\n",
       "    </tr>\n",
       "    <tr>\n",
       "      <th>7</th>\n",
       "      <td>1</td>\n",
       "      <td>1</td>\n",
       "    </tr>\n",
       "    <tr>\n",
       "      <th>8</th>\n",
       "      <td>3</td>\n",
       "      <td>3</td>\n",
       "    </tr>\n",
       "    <tr>\n",
       "      <th>9</th>\n",
       "      <td>2</td>\n",
       "      <td>2</td>\n",
       "    </tr>\n",
       "    <tr>\n",
       "      <th>10</th>\n",
       "      <td>2</td>\n",
       "      <td>2</td>\n",
       "    </tr>\n",
       "    <tr>\n",
       "      <th>11</th>\n",
       "      <td>1</td>\n",
       "      <td>1</td>\n",
       "    </tr>\n",
       "    <tr>\n",
       "      <th>12</th>\n",
       "      <td>3</td>\n",
       "      <td>3</td>\n",
       "    </tr>\n",
       "    <tr>\n",
       "      <th>13</th>\n",
       "      <td>1</td>\n",
       "      <td>1</td>\n",
       "    </tr>\n",
       "    <tr>\n",
       "      <th>14</th>\n",
       "      <td>1</td>\n",
       "      <td>1</td>\n",
       "    </tr>\n",
       "    <tr>\n",
       "      <th>15</th>\n",
       "      <td>2</td>\n",
       "      <td>2</td>\n",
       "    </tr>\n",
       "    <tr>\n",
       "      <th>16</th>\n",
       "      <td>1</td>\n",
       "      <td>1</td>\n",
       "    </tr>\n",
       "    <tr>\n",
       "      <th>17</th>\n",
       "      <td>1</td>\n",
       "      <td>1</td>\n",
       "    </tr>\n",
       "    <tr>\n",
       "      <th>18</th>\n",
       "      <td>2</td>\n",
       "      <td>2</td>\n",
       "    </tr>\n",
       "    <tr>\n",
       "      <th>19</th>\n",
       "      <td>1</td>\n",
       "      <td>1</td>\n",
       "    </tr>\n",
       "    <tr>\n",
       "      <th>20</th>\n",
       "      <td>2</td>\n",
       "      <td>2</td>\n",
       "    </tr>\n",
       "    <tr>\n",
       "      <th>21</th>\n",
       "      <td>2</td>\n",
       "      <td>2</td>\n",
       "    </tr>\n",
       "    <tr>\n",
       "      <th>22</th>\n",
       "      <td>1</td>\n",
       "      <td>1</td>\n",
       "    </tr>\n",
       "    <tr>\n",
       "      <th>23</th>\n",
       "      <td>3</td>\n",
       "      <td>3</td>\n",
       "    </tr>\n",
       "    <tr>\n",
       "      <th>24</th>\n",
       "      <td>2</td>\n",
       "      <td>2</td>\n",
       "    </tr>\n",
       "    <tr>\n",
       "      <th>25</th>\n",
       "      <td>3</td>\n",
       "      <td>3</td>\n",
       "    </tr>\n",
       "    <tr>\n",
       "      <th>26</th>\n",
       "      <td>3</td>\n",
       "      <td>3</td>\n",
       "    </tr>\n",
       "    <tr>\n",
       "      <th>27</th>\n",
       "      <td>1</td>\n",
       "      <td>1</td>\n",
       "    </tr>\n",
       "    <tr>\n",
       "      <th>28</th>\n",
       "      <td>1</td>\n",
       "      <td>1</td>\n",
       "    </tr>\n",
       "    <tr>\n",
       "      <th>29</th>\n",
       "      <td>3</td>\n",
       "      <td>3</td>\n",
       "    </tr>\n",
       "    <tr>\n",
       "      <th>30</th>\n",
       "      <td>3</td>\n",
       "      <td>3</td>\n",
       "    </tr>\n",
       "    <tr>\n",
       "      <th>31</th>\n",
       "      <td>1</td>\n",
       "      <td>1</td>\n",
       "    </tr>\n",
       "    <tr>\n",
       "      <th>32</th>\n",
       "      <td>2</td>\n",
       "      <td>2</td>\n",
       "    </tr>\n",
       "    <tr>\n",
       "      <th>33</th>\n",
       "      <td>3</td>\n",
       "      <td>3</td>\n",
       "    </tr>\n",
       "    <tr>\n",
       "      <th>34</th>\n",
       "      <td>1</td>\n",
       "      <td>1</td>\n",
       "    </tr>\n",
       "    <tr>\n",
       "      <th>35</th>\n",
       "      <td>2</td>\n",
       "      <td>2</td>\n",
       "    </tr>\n",
       "  </tbody>\n",
       "</table>\n",
       "</div>"
      ],
      "text/plain": [
       "    estimados  reales\n",
       "0           2       2\n",
       "1           1       1\n",
       "2           2       2\n",
       "3           2       2\n",
       "4           1       2\n",
       "5           1       1\n",
       "6           3       2\n",
       "7           1       1\n",
       "8           3       3\n",
       "9           2       2\n",
       "10          2       2\n",
       "11          1       1\n",
       "12          3       3\n",
       "13          1       1\n",
       "14          1       1\n",
       "15          2       2\n",
       "16          1       1\n",
       "17          1       1\n",
       "18          2       2\n",
       "19          1       1\n",
       "20          2       2\n",
       "21          2       2\n",
       "22          1       1\n",
       "23          3       3\n",
       "24          2       2\n",
       "25          3       3\n",
       "26          3       3\n",
       "27          1       1\n",
       "28          1       1\n",
       "29          3       3\n",
       "30          3       3\n",
       "31          1       1\n",
       "32          2       2\n",
       "33          3       3\n",
       "34          1       1\n",
       "35          2       2"
      ]
     },
     "execution_count": 79,
     "metadata": {},
     "output_type": "execute_result"
    }
   ],
   "source": [
    "#ejercicio 2\n",
    "X = df_wine_independientes.values\n",
    "Y = df_wine_dependientes['Customer_Segment'].to_numpy()\n",
    "\n",
    "X_train, X_test, Y_train, Y_test = train_test_split(X, Y, test_size=0.2)\n",
    "\n",
    "# clasificación haciendo PCA\n",
    "Y_estimado, Avals = clasif_PCA(X_test, X_train, Y_train, 4, 5)\n",
    "\n",
    "desaciertos = 0\n",
    "for i in range(len(Y_test)):\n",
    "    if Y_test[i] != Y_estimado[i]:\n",
    "        desaciertos += 1\n",
    "        total =len(Y_test)\n",
    "error = desaciertos/total\n",
    "\n",
    "\n",
    "df = pd.DataFrame({'estimados':Y_estimado, 'reales': Y_test.T})\n",
    "\n",
    "print(f'{desaciertos} / {total} = {error}')\n",
    "df"
   ]
  },
  {
   "cell_type": "markdown",
   "metadata": {},
   "source": [
    "en el caso 17 no le pegó"
   ]
  },
  {
   "cell_type": "code",
   "execution_count": 114,
   "metadata": {},
   "outputs": [
    {
     "name": "stdout",
     "output_type": "stream",
     "text": [
      "   Modelo PCA  Componente  Varianza explicada  Porcentaje   Acumulado\n",
      "0         1.0         1.0            1.000000  100.000000  100.000000\n",
      "1         2.0         1.0            0.659674   65.967413   65.967413\n",
      "2         2.0         2.0            0.340326   34.032587  100.000000\n",
      "3         3.0         1.0            0.541636   54.163572   54.163572\n",
      "4         3.0         2.0            0.276812   27.681242   81.844813\n",
      "5         3.0         3.0            0.181552   18.155187  100.000000\n",
      "6         4.0         1.0            0.486312   48.631247   48.631247\n",
      "7         4.0         2.0            0.261040   26.103989   74.735236\n",
      "8         4.0         3.0            0.148169   14.816878   89.552114\n",
      "9         4.0         4.0            0.104479   10.447886  100.000000\n"
     ]
    }
   ],
   "source": [
    "#(a)\n",
    "df = pd.DataFrame(columns=['Modelo PCA','Componente', 'Varianza explicada', 'Porcentaje', 'Acumulado'])\n",
    "\n",
    "# Llenar los valores faltantes\n",
    "matriz_Avals = []\n",
    "for CP in range(1,5):\n",
    "    X_train, X_test, Y_train, Y_test = train_test_split(X, Y, test_size=0.2)\n",
    "    # clasificación haciendo PCA\n",
    "    Y_estimado, Avals = clasif_PCA(X_test, X_train, Y_train, CP, 5)\n",
    "    matriz_Avals.append(Avals)\n",
    "\n",
    "df.loc[0] = [1, 1, matriz_Avals[0][0]/sum(matriz_Avals[0]), (matriz_Avals[0][0]/sum(matriz_Avals[0]))*100, (matriz_Avals[0][0]/sum(matriz_Avals[0]))*100]\n",
    "\n",
    "df.loc[1] = [2, 1,matriz_Avals[1][0]/sum(matriz_Avals[1]), (matriz_Avals[1][0]/sum(matriz_Avals[1]))*100, (matriz_Avals[1][0]/sum(matriz_Avals[1]))*100]\n",
    "df.loc[2] = [2, 2,matriz_Avals[1][1]/sum(matriz_Avals[1]), (matriz_Avals[1][1]/sum(matriz_Avals[1]))*100, (matriz_Avals[1][0]/sum(matriz_Avals[1]))*100 + (matriz_Avals[1][1]/sum(matriz_Avals[1]))*100]\n",
    "\n",
    "df.loc[3] = [3, 1,matriz_Avals[2][0]/sum(matriz_Avals[2]), (matriz_Avals[2][0]/sum(matriz_Avals[2]))*100, (matriz_Avals[2][0]/sum(matriz_Avals[2]))*100]\n",
    "df.loc[4] = [3, 2, matriz_Avals[2][1]/sum(matriz_Avals[2]), (matriz_Avals[2][1]/sum(matriz_Avals[2]))*100, (matriz_Avals[2][1]/sum(matriz_Avals[2]))*100 + (matriz_Avals[2][0]/sum(matriz_Avals[2]))*100]\n",
    "df.loc[5] = [3, 3, matriz_Avals[2][2]/sum(matriz_Avals[2]), (matriz_Avals[2][2]/sum(matriz_Avals[2]))*100, (matriz_Avals[2][2]/sum(matriz_Avals[2]))*100 + (matriz_Avals[2][0]/sum(matriz_Avals[2]))*100 + (matriz_Avals[2][1]/sum(matriz_Avals[2]))*100]\n",
    "\n",
    "df.loc[6] = [4, 1, matriz_Avals[3][0]/sum(matriz_Avals[3]), (matriz_Avals[3][0]/sum(matriz_Avals[3]))*100, (matriz_Avals[3][0]/sum(matriz_Avals[3]))*100]\n",
    "df.loc[7] = [4, 2, matriz_Avals[3][1]/sum(matriz_Avals[3]), (matriz_Avals[3][1]/sum(matriz_Avals[3]))*100, (matriz_Avals[3][1]/sum(matriz_Avals[3]))*100 + (matriz_Avals[3][0]/sum(matriz_Avals[3]))*100]\n",
    "df.loc[8] = [4, 3, matriz_Avals[3][2]/sum(matriz_Avals[3]), (matriz_Avals[3][2]/sum(matriz_Avals[3]))*100, (matriz_Avals[3][2]/sum(matriz_Avals[3]))*100 + (matriz_Avals[3][0]/sum(matriz_Avals[3]))*100 +(matriz_Avals[3][1]/sum(matriz_Avals[3]))*100]\n",
    "df.loc[9] = [4, 4, matriz_Avals[3][3]/sum(matriz_Avals[3]), (matriz_Avals[3][3]/sum(matriz_Avals[3]))*100, (matriz_Avals[3][3]/sum(matriz_Avals[3]))*100 + (matriz_Avals[3][0]/sum(matriz_Avals[3]))*100 +(matriz_Avals[3][1]/sum(matriz_Avals[3]))*100 + (matriz_Avals[3][2]/sum(matriz_Avals[3]))*100]\n",
    "\n",
    "\n",
    "# Imprimir el dataframe\n",
    "print(df)"
   ]
  },
  {
   "cell_type": "code",
   "execution_count": null,
   "metadata": {},
   "outputs": [],
   "source": []
  },
  {
   "cell_type": "code",
   "execution_count": null,
   "metadata": {},
   "outputs": [],
   "source": []
  },
  {
   "cell_type": "code",
   "execution_count": null,
   "metadata": {},
   "outputs": [],
   "source": []
  },
  {
   "cell_type": "code",
   "execution_count": null,
   "metadata": {},
   "outputs": [],
   "source": []
  },
  {
   "cell_type": "code",
   "execution_count": null,
   "metadata": {},
   "outputs": [],
   "source": []
  },
  {
   "cell_type": "code",
   "execution_count": null,
   "metadata": {},
   "outputs": [],
   "source": []
  },
  {
   "cell_type": "code",
   "execution_count": null,
   "metadata": {},
   "outputs": [],
   "source": []
  }
 ],
 "metadata": {
  "kernelspec": {
   "display_name": "Python 3",
   "language": "python",
   "name": "python3"
  },
  "language_info": {
   "codemirror_mode": {
    "name": "ipython",
    "version": 3
   },
   "file_extension": ".py",
   "mimetype": "text/x-python",
   "name": "python",
   "nbconvert_exporter": "python",
   "pygments_lexer": "ipython3",
   "version": "3.11.6"
  }
 },
 "nbformat": 4,
 "nbformat_minor": 4
}
