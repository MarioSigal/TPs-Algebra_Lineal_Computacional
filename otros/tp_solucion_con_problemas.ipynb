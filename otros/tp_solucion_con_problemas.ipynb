{
 "cells": [
  {
   "cell_type": "markdown",
   "metadata": {},
   "source": [
    "#### Trabajo Práctico N° 1\n",
    "##### Resolución de sistemas lineales con descomposición LU\n",
    "Facultad de Ciencias Exactas y Naturales\n",
    "\n",
    "Álgebra Lineal Computacional 2°C 2023\n",
    "\n",
    "Luca Jaichenco ~ 591/22 |Mario Sigal Aguirre ~ 157/22"
   ]
  },
  {
   "cell_type": "code",
   "execution_count": 3,
   "metadata": {},
   "outputs": [],
   "source": [
    "# Imports\n",
    "import numpy as np\n",
    "import scipy\n",
    "import time\n",
    "import matplotlib.pyplot as plt"
   ]
  },
  {
   "cell_type": "markdown",
   "metadata": {},
   "source": [
    "##### Creamos la funcion definir_matiz que genera una matiz n*n de numeros entre -1 y 1"
   ]
  },
  {
   "cell_type": "code",
   "execution_count": 4,
   "metadata": {},
   "outputs": [],
   "source": [
    "def definir_matriz(shape):\n",
    "    return np.random.uniform(-1,1, size=shape)"
   ]
  },
  {
   "cell_type": "markdown",
   "metadata": {},
   "source": [
    "#### Ejercicio 1: descompLU\n",
    "Dado $ A \\in \\mathbb{R}^{n \\times n}$, la funcion __descompLU__ calcula la descomposicion $LU$ de $A$. \n",
    "\n",
    "Se utiliza un algoritmo que realiza la descomposicion por bloques de forma recursiva, teniendo en cuenta el siguiente planteamiento:\n",
    "$$\n",
    "A = LU\n",
    "$$\n",
    "$$\n",
    "\\begin{pmatrix}\n",
    "        a_{11} & A_{12} \\\\\n",
    "        A_{21} & A_{22}\n",
    "    \\end{pmatrix}\n",
    "=\n",
    "\\begin{pmatrix}\n",
    "        1 & 0  \\\\\n",
    "        L_{21} & L_{22} \n",
    "    \\end{pmatrix}\n",
    "\\cdot\n",
    "\\begin{pmatrix}\n",
    "        u_{11} & U_{12}  \\\\\n",
    "        0 & U_{22}\n",
    "    \\end{pmatrix}\n",
    "$$\n",
    "\n",
    "$$\n",
    "\\begin{pmatrix}\n",
    "        a_{11} & A_{12} \\\\\n",
    "        A_{21} & A_{22}\n",
    "    \\end{pmatrix}\n",
    "=\n",
    "\\begin{pmatrix}\n",
    "        u_{11} & U_{12}  \\\\\n",
    "        L_{21}u_{11} & L_{21}U_{12} + L_{22}U_{22} \n",
    "    \\end{pmatrix}\n",
    "$$\n",
    "Se plantean las siguientes ecuaciones para obtener el contenido de los bloques.\n",
    "\n",
    "$$\n",
    "u_{11} = a_{11}\\\\\n",
    "\n",
    "U_{12} = A_{12}\\\\\n",
    "\n",
    "L_{21} = \\frac{A_{21}}{u_{11}}\\\\\n",
    "\n",
    "L_{22}U_{22} = A_{22} - L_{21}U_{12}\n",
    "$$\n",
    "\n",
    "Para obtener $L_{22}$ y $U_{22}$ se calcula recursivamente la descomposicion $LU$ del producto $L_{22}U_{22}$.\n",
    "\n",
    "\n",
    "El Algoritmo funciona siempre y cuando primer elemento de la diagonal de $A$ sea distinto de cero en cada paso de la recurcion.\n",
    "$$ a_{11} \\neq 0 $$\n",
    "\n",
    "En cazo contrario, la funcion devuelve a la matriz identidad $I_n$ y la matriz $A$ original.\n",
    "\n",
    "\n"
   ]
  },
  {
   "cell_type": "code",
   "execution_count": 5,
   "metadata": {},
   "outputs": [],
   "source": [
    "def descompLU(A):\n",
    "    n = A.shape[0]\n",
    "    \n",
    "    #Caso Base/Matriz de 1x1\n",
    "    if n == 1:\n",
    "        if A[0, 0] == 0:\n",
    "            print(\"Error: La Matriz tiene un 0 en la diagonal.\")\n",
    "            return np.eye(1), A  # Devuelve la matriz identidad y A original\n",
    "        else:\n",
    "            return np.array([[1]]), A  # Matriz L es 1x1 con valor 1 y U es A original\n",
    "\n",
    "    #Definiciones de bloques:\n",
    "         \n",
    "    a11 = A[0, 0] # Obs: Python guarda este valor como un float  \n",
    "    A12 = A[0, 1:]\n",
    "    A21 = A[1:, 0] # Obs: Python guarda este vector en formato horizontal\n",
    "    A22 = A[1:, 1:]\n",
    "\n",
    "    #Definiciones de matrices complementarias: \n",
    "    \n",
    "    I = np.eye(n)  # Matriz identidad de nxn\n",
    "    I22 = np.eye(n-1) # Matriz identidad menor\n",
    "    L = I\n",
    "    U = np.zeros((n, n))  # Matriz de ceros de nxn\n",
    "    \n",
    "    \n",
    "    # Calculos:\n",
    "    \n",
    "    # Calculamos u11 y U12\n",
    "    if a11 == 0:\n",
    "        print(\"Error: La Matriz tiene un 0 en la diagonal.\")\n",
    "        return L, A  # Devuelve la matriz identidad y A original\n",
    "    \n",
    "    u11 = a11\n",
    "    U12 = A12\n",
    "    \n",
    "    # Calculamos L21\n",
    "    L21 = A21 / u11\n",
    "    \n",
    "    \n",
    "    # Calculamos L22 y U22 recursivamente\n",
    "    L22U22 = A22 - L21.reshape(-1,1)@U12.reshape(1,-1)\n",
    "    L22, U22 = descompLU(L22U22)\n",
    "   \n",
    "    #Verificaciones:\n",
    "    \n",
    "    # Verifica si debe devlver (I_n, A) o (L, U)\n",
    "    # Dividimos los casos en si n == 2 y si n>2, pues en las matrices de 2x2, el bloque U22 siempre es igual a L22U22 y L22 es igual a la identiodad, el problema esta en que cuando n == 2 a su vez es necesario que U22 sea igual a 0 para que se interprete como una matriz singular y devuelva la identidad y la A original\n",
    "    if  n == 2 and np.array_equal(U22, L22U22) and np.array_equal(L22, I22) and U22 == [[0.]]: \n",
    "        return L, A  # Devuelve la matriz identidad y A original\n",
    "    if n>2 and np.array_equal(U22, L22U22) and np.array_equal(L22, I22): \n",
    "        return L, A  # Devuelve la matriz identidad y A original\n",
    "    \n",
    "    # Actualizaciones:\n",
    "    \n",
    "    # Actualizamos las matrices L y U\n",
    "    L[1:, 0] = L21\n",
    "    U[0, 0] = u11\n",
    "    U[0, 1:] = U12\n",
    "\n",
    "    # Actualizamos las matrices L y U con los bloques calculados recursivamente\n",
    "    L[1:, 1:] = L22\n",
    "    U[1:, 1:] = U22\n",
    "    \n",
    "    return L, U\n",
    "\n"
   ]
  },
  {
   "cell_type": "markdown",
   "metadata": {},
   "source": [
    "#### Ejercicio 3: resolverLU\n",
    "Dada una matriz $ A \\in \\mathbb{R}^{n \\times n}$ y un vectoir $ b \\in \\mathbb{R}^{n} $, la funcion __resolverLU__ devuelve la solucion $x$ del sistema $Ax = b$ mediante la descomposicion $LU$ de $A$, resolviendo los sistemas $Ly = b$ y $Ux = y$.\n",
    "\n",
    "Decidimos implementar la funcion de dos maneras distintas, una estando programanda directamente desde cero y otra usando la libreria __SciPy__. esto nos permitira analizar la eficiencia de ambas posteriormente.\n"
   ]
  },
  {
   "cell_type": "code",
   "execution_count": 18,
   "metadata": {},
   "outputs": [
    {
     "name": "stdout",
     "output_type": "stream",
     "text": [
      "[ 2.44444444 -0.55555556 -2.22222222 -0.33333333]\n"
     ]
    }
   ],
   "source": [
    "#resolverLU sin SciPy\n",
    "def resolverU(U,y): #resuelve el sistema de una matriz triangular superior\n",
    "    n= U.shape[1]\n",
    "    x=np.zeros(n)\n",
    "    \n",
    "    # Resuelve el sistema:\n",
    "    for i in range(n-1,-1,-1): #range(n-1,-1,-1) es un range planteado de manera inversa, siendo la sucesion: {n-1, n-2, ...., 2, 1}\n",
    "        suma = 0\n",
    "        for j in range(i+1,n):\n",
    "            suma = suma + U[i,j]*x[j]\n",
    "                    \n",
    "        x[i] = (y[i]- suma)/U[i,i]\n",
    "    return x\n",
    "\n",
    "def resolverL(L,b): #resuelve el sistema de una matriz triangular Inferior\n",
    "    \n",
    "    n= L.shape[1]\n",
    "    y=np.zeros(n)\n",
    "    \n",
    "    # Resuelve el sistema:\n",
    "    for i in range(0,n):\n",
    "        suma = 0\n",
    "        for j in range(0,i):\n",
    "            suma = suma + L[i,j]*y[j]     \n",
    "               \n",
    "        y[i] = (b[i]- suma)/L[i,i]\n",
    "    return y\n",
    "\n",
    "def resolverLU(A,b):\n",
    "    # Calcula la descomposicion LU\n",
    "    L, U = descompLU(A)\n",
    "\n",
    "    # Resuelve ambos sistemas:\n",
    "    y = resolverL(L,b)\n",
    "    x = resolverU(U,y)   \n",
    "    return x\n",
    "\n"
   ]
  },
  {
   "cell_type": "code",
   "execution_count": 19,
   "metadata": {},
   "outputs": [
    {
     "name": "stdout",
     "output_type": "stream",
     "text": [
      "[ 2.44444444 -0.55555556 -2.22222222 -0.33333333]\n"
     ]
    }
   ],
   "source": [
    "#resolverLU con SciPy\n",
    "def resolverLUSP(A, b):\n",
    "    # Calcula la descomposicion LU\n",
    "    L, U = descompLU(A)\n",
    "    \n",
    "    # Resuelve ambos sistemas:\n",
    "    y = scipy.linalg.solve_triangular(L,b, lower = True)\n",
    "    x = scipy.linalg.solve_triangular(U, y)\n",
    "    return x\n"
   ]
  },
  {
   "cell_type": "markdown",
   "metadata": {},
   "source": [
    "#### Ejercicio 4: Probar resolverLU y calcular el Error Relativo en Norma-2\n",
    "\n",
    "La funcion __error_rel_n2__ calcula el Error Relativo en Norma-2 entre dos vectores usando funciones de la libreria __NumPy__."
   ]
  },
  {
   "cell_type": "code",
   "execution_count": 8,
   "metadata": {},
   "outputs": [],
   "source": [
    "def error_rel_n2(x, y):\n",
    "    res = np.linalg.norm(x-y,ord=2)/np.linalg.norm(y,ord=2)\n",
    "    return res"
   ]
  },
  {
   "cell_type": "markdown",
   "metadata": {},
   "source": [
    "Definimos una matriz $A \\in \\mathbb{R}^{10 \\times 10}$  y un vector $b \\in \\mathbb{R}^{10}$, ambos de numeros aleatorios en [-1,1),\n",
    "para calcular el error relativo de norma-2:\n",
    "$$ \\frac{||Ax-b||_2}{||b||_2}."
   ]
  },
  {
   "cell_type": "code",
   "execution_count": 9,
   "metadata": {},
   "outputs": [
    {
     "name": "stdout",
     "output_type": "stream",
     "text": [
      "El error relativo en norma 2 entre \n",
      "Ax = [ 0.78921333 -0.82991158 -0.92189043 -0.66033916  0.75628501] \n",
      "y b = [ 0.78921333 -0.82991158 -0.92189043 -0.66033916  0.75628501]\n",
      "es: \n",
      "1.891508243839044e-15.\n",
      "\n",
      "El error expresado en escala logaritmica es:\n",
      "-33.90140187146865 \n"
     ]
    }
   ],
   "source": [
    "# Definimos la matriz A y el vector b:\n",
    "np.random.seed(1)\n",
    "A = definir_matriz((5,5))\n",
    "b = definir_matriz((1,5))[0]\n",
    "\n",
    "# Calculamos la solcion del sistema\n",
    "x = resolverLU(A, b)\n",
    "\n",
    "# Calculamos el error relativo en norma-2 y su logaritmo natural \n",
    "error = error_rel_n2(A@x, b)\n",
    "logerror = np.log(error_rel_n2(A@x, b))\n",
    "\n",
    "print(\"El error relativo en norma 2 entre \\nAx = {} \\ny b = {}\\nes: \\n{}.\\n\\nEl error expresado en escala logaritmica es:\\n{} \".format(A@x, b, error, logerror))\n"
   ]
  },
  {
   "cell_type": "markdown",
   "metadata": {},
   "source": [
    "#### Ejercicio 5: Cálculo de la Inversa\n",
    "\n",
    "La funcion __inversa__ recibe una matriz $A \\in \\mathbb{R}^{n \\times n}$ inversible y calcula su inversa por medio de su descomposicion $LU$ y la resolucion de los sistemas $Ly = b$ y $Ux = y$, siendo y los vectores de la base canónica $e_i, 1 \\leq i \\leq n $ .\n",
    "\n",
    "Al igual que en el ejercicio 3 Decidimos implementar la funcion de dos maneras distintas, una estando programanda directamente desde cero y otra usando la libreria __SciPy__. esto nos permitira analizar la eficiencia de ambas posteriormente."
   ]
  },
  {
   "cell_type": "code",
   "execution_count": 10,
   "metadata": {},
   "outputs": [],
   "source": [
    "#inversa sin SciPy\n",
    "#copiamos de vuelta resolverU y resolverL para que las celdas del ejercicio 3 y ejercicio 5 se puedan correr independientemente una de otra\n",
    "def resolverU(U,y): #resuelve el sistema de una matriz triangular superior\n",
    "    n = U.shape[1]\n",
    "    x = np.zeros(n)\n",
    "    # Resuelve el sistema:\n",
    "    for i in range(n-1,-1,-1): #range(n-1,-1,-1) es un range planteado de manera inversa, siendo la sucesion: {n-1, n-2, ...., 2, 1}\n",
    "        suma = 0\n",
    "        for j in range(i+1,n):\n",
    "            suma = suma + U[i,j]*x[j]\n",
    "                    \n",
    "        x[i] = (y[i]- suma)/U[i,i]\n",
    "    return x\n",
    "\n",
    "def resolverL(L,b): #resuelve el sistema de una matriz triangular Inferior\n",
    "    \n",
    "    n = L.shape[1]\n",
    "    y=np.zeros(n)\n",
    "    \n",
    "    # Resuelve el sistema:\n",
    "    for i in range(0,n):\n",
    "        suma = 0\n",
    "        for j in range(0,i):\n",
    "            suma = suma + L[i,j]*y[j]     \n",
    "               \n",
    "        y[i] = (b[i]- suma)/L[i,i]\n",
    "    return y\n",
    "\n",
    "\n",
    "def inversa(A):\n",
    "    \n",
    "    # Calcula la descomposicion LU :\n",
    "    L, U = descompLU(A)\n",
    "    \n",
    "    # Se Definen otras matrices a utilizar:\n",
    "    n = A.shape[0]\n",
    "    I = np.eye(n)\n",
    "    Inv = np.zeros((n,n))\n",
    "    \n",
    "    # para cada vector columna de la matriz identidad: \n",
    "    for i in range(n):\n",
    "        e_i = I[0:, i]\n",
    "        \n",
    "        #Resuelve los sistemas:\n",
    "        y = resolverL(L,e_i)\n",
    "        x = resolverU(U,y)\n",
    "        \n",
    "        #incorpora los vectores obtenidos a la matriz inversa:\n",
    "        Inv[0:, i]=x\n",
    "        \n",
    "    return Inv\n",
    "\n"
   ]
  },
  {
   "cell_type": "code",
   "execution_count": 11,
   "metadata": {},
   "outputs": [],
   "source": [
    "#inversa con SciPy\n",
    "def inversa(A):\n",
    "    # Calculamos la descomposicion LU\n",
    "    L, U = descompLU(A)\n",
    "    \n",
    "    # Definimos la martriz identidad\n",
    "    In = np.eye(A.shape[0])\n",
    "    \n",
    "    # resolvemos los sistemas para cada vector de la matriz identidad\n",
    "    y = scipy.linalg.solve_triangular(L, In, lower = True)\n",
    "    x = scipy.linalg.solve_triangular(U, y)\n",
    "    return x\n"
   ]
  },
  {
   "cell_type": "markdown",
   "metadata": {},
   "source": [
    "#### Ejercicio 6: Probar Inversa y calcular el error en norma Frobenius.\n",
    "La funcion __error_nF__ calcula el error en norma Frobenius entre $A^{-1}A$ e $I$, siendo $A$ una matriz $\\in \\mathbb{R}^{n\\times n}$ e $I$ la matriz identidad.\n",
    "\n",
    "$$\n",
    "|| A^{-1}A - I ||_{F}\n",
    "$$\n",
    "El resultado de esta expresión debería ser cercano a cero si la matriz $A$ es invertible y si la multiplicación $A^{-1} A$ se acerca a la matriz identidad.\n",
    "\n",
    "Se calcula usando funciones de la libreria __NumPy__."
   ]
  },
  {
   "cell_type": "code",
   "execution_count": 12,
   "metadata": {},
   "outputs": [],
   "source": [
    "def error_nF(A):\n",
    "    Ainv = inversa(A)\n",
    "    res = np.linalg.norm(Ainv@A - np.eye(A.shape[0]), ord='fro')\n",
    "    return res"
   ]
  },
  {
   "cell_type": "markdown",
   "metadata": {},
   "source": [
    "Definimos una matriz $A \\in \\mathbb{R}^{10\\times 10}$ y calculames el error en norma Frobenius entre $A^{-1}A$ e $I$"
   ]
  },
  {
   "cell_type": "code",
   "execution_count": 13,
   "metadata": {},
   "outputs": [
    {
     "name": "stdout",
     "output_type": "stream",
     "text": [
      "El error en norma Frobenius entre A^(-1).A e I es: \n",
      "1.9048036381648381e-13.\n",
      "El error expresado en escala logaritmica es:\n",
      "-29.289227282735563 \n"
     ]
    }
   ],
   "source": [
    "#Definimos A:\n",
    "A = definir_matriz((10,10))\n",
    "#Calculamos el error en norma Frobenius y su logaritmo natural\n",
    "error_nf = error_nF(A)\n",
    "logerror_nf = np.log(error_nf)\n",
    "\n",
    "print(\"El error en norma Frobenius entre A^(-1).A e I es: \\n{}.\\nEl error expresado en escala logaritmica es:\\n{} \".format(error_nf, logerror_nf))"
   ]
  },
  {
   "cell_type": "markdown",
   "metadata": {},
   "source": [
    "#### Ejercicio 7: Experimento\n",
    "Realizaremos el experimento descripto en las consignas del Trabajo Practico:\n",
    "\n",
    "Investigaremos si existe relacion entre el tamanio de una matriz $A$ y el error que se comente al calcular la solucion del sistema $Ax = b$ y analizaremos los siguientes casos:\n",
    "\n",
    "Resolver el sistema $Ax = b$ mediante la resolucion de los sistemas $Ly = b$ y $Ux = y$.\n",
    "\n",
    "- usando la funcion resolverLU \n",
    "\n",
    "- usando la funcion resolverLUSP\n",
    "\n",
    "Resolver el sistema $Ax = b$ mediante el calculo de la inversa de $A$, siendo $x = A^{-1}b $\n",
    "\n",
    "- usando la funcion inversa\n",
    "- usando la funcion inversaSP\n",
    "\n",
    "A su vez nos interesa investigar los tiempos de ejecución de cada uno de los métodos, esto nos permitira obtener una conclusión mas concisa y exacta.\n",
    "\n",
    "Aclaraciones:\n",
    "- Como el error relativo medido es muy cercano a cero, para una mejor visualizacion, calculamos la suma de los logaritmos naturales de los errores relativos de diez matrices distintas para cada rango de matrices entre 10 y 200\n",
    "\n",
    "- El tiempo medido es el tiempo transcurrido entre el comienzo y el final del calculo del error relativo de las diez matrices en cada rango, por eso calculamos el tiempo promedio para cada matriz.\n"
   ]
  },
  {
   "cell_type": "code",
   "execution_count": 20,
   "metadata": {},
   "outputs": [
    {
     "name": "stderr",
     "output_type": "stream",
     "text": [
      "C:\\Users\\mario\\AppData\\Local\\Temp\\ipykernel_12572\\2067740453.py:26: DeprecationWarning: Conversion of an array with ndim > 0 to a scalar is deprecated, and will error in future. Ensure you extract a single element from your array before performing this operation. (Deprecated NumPy 1.25.)\n",
      "  y[i] = (b[i]- suma)/L[i,i]\n"
     ]
    }
   ],
   "source": [
    "#Experimento 1: resolverLU\n",
    "np.random.seed(1)# en cada uno de los 4 experimentos queremos usar las mismas matrices\n",
    "\n",
    "v1 = np.zeros(200)\n",
    "tiempo1 = np.zeros(200)\n",
    "# Buscamos errores relativos para ResolverLU\n",
    "for n in range(10, 201):\n",
    "    suma_errores = 0\n",
    "    start = time.time()\n",
    "    for i in range(10):\n",
    "        \n",
    "        # Definimos la matriz A, x y b tal que Ax = b\n",
    "        A = definir_matriz((n,n))\n",
    "        x = np.random.uniform(-1,1, size=(n,1))\n",
    "        b = A@x\n",
    "        \n",
    "        # Resolvemos el sistema Ax = b y calculamos el error\n",
    "        x1 = resolverLU(A,b) # x1 es un vector\n",
    "        x1 = np.array([x1]) # transformamos x1 en una matriz\n",
    "        suma_errores += np.log(error_rel_n2(A@x1.T,b))\n",
    "\n",
    "    tiempo1[n-1] = (time.time() - start)/10 # es el promedio del tiempo para calcular una matriz\n",
    "    v1[n-1] = suma_errores\n",
    "\n"
   ]
  },
  {
   "cell_type": "code",
   "execution_count": 22,
   "metadata": {},
   "outputs": [
    {
     "ename": "ValueError",
     "evalue": "Improper number of dimensions to norm.",
     "output_type": "error",
     "traceback": [
      "\u001b[1;31m---------------------------------------------------------------------------\u001b[0m",
      "\u001b[1;31mValueError\u001b[0m                                Traceback (most recent call last)",
      "\u001b[1;32mc:\\Users\\mario\\OneDrive\\Escritorio\\Algebra Lineal Computacional\\Tps\\TP1 LU\\tp_solucion.ipynb Cell 23\u001b[0m line \u001b[0;36m2\n\u001b[0;32m     <a href='vscode-notebook-cell:/c%3A/Users/mario/OneDrive/Escritorio/Algebra%20Lineal%20Computacional/Tps/TP1%20LU/tp_solucion.ipynb#X31sZmlsZQ%3D%3D?line=18'>19</a>\u001b[0m     x2 \u001b[39m=\u001b[39m resolverLUSP(A,b)\n\u001b[0;32m     <a href='vscode-notebook-cell:/c%3A/Users/mario/OneDrive/Escritorio/Algebra%20Lineal%20Computacional/Tps/TP1%20LU/tp_solucion.ipynb#X31sZmlsZQ%3D%3D?line=19'>20</a>\u001b[0m     x2 \u001b[39m=\u001b[39m np\u001b[39m.\u001b[39marray([x2])\n\u001b[1;32m---> <a href='vscode-notebook-cell:/c%3A/Users/mario/OneDrive/Escritorio/Algebra%20Lineal%20Computacional/Tps/TP1%20LU/tp_solucion.ipynb#X31sZmlsZQ%3D%3D?line=20'>21</a>\u001b[0m     suma_errores \u001b[39m+\u001b[39m\u001b[39m=\u001b[39m np\u001b[39m.\u001b[39mlog(error_rel_n2(A\u001b[39m@x2\u001b[39;49m\u001b[39m.\u001b[39;49mT,b))\n\u001b[0;32m     <a href='vscode-notebook-cell:/c%3A/Users/mario/OneDrive/Escritorio/Algebra%20Lineal%20Computacional/Tps/TP1%20LU/tp_solucion.ipynb#X31sZmlsZQ%3D%3D?line=22'>23</a>\u001b[0m tiempo2[n\u001b[39m-\u001b[39m\u001b[39m1\u001b[39m] \u001b[39m=\u001b[39m (time\u001b[39m.\u001b[39mtime() \u001b[39m-\u001b[39m start)\u001b[39m/\u001b[39m\u001b[39m10\u001b[39m \u001b[39m# es el promedio del tiempo para calcular una matriz\u001b[39;00m\n\u001b[0;32m     <a href='vscode-notebook-cell:/c%3A/Users/mario/OneDrive/Escritorio/Algebra%20Lineal%20Computacional/Tps/TP1%20LU/tp_solucion.ipynb#X31sZmlsZQ%3D%3D?line=23'>24</a>\u001b[0m v2[n\u001b[39m-\u001b[39m\u001b[39m1\u001b[39m] \u001b[39m=\u001b[39m suma_errores\n",
      "\u001b[1;32mc:\\Users\\mario\\OneDrive\\Escritorio\\Algebra Lineal Computacional\\Tps\\TP1 LU\\tp_solucion.ipynb Cell 23\u001b[0m line \u001b[0;36m2\n\u001b[0;32m      <a href='vscode-notebook-cell:/c%3A/Users/mario/OneDrive/Escritorio/Algebra%20Lineal%20Computacional/Tps/TP1%20LU/tp_solucion.ipynb#X31sZmlsZQ%3D%3D?line=0'>1</a>\u001b[0m \u001b[39mdef\u001b[39;00m \u001b[39merror_rel_n2\u001b[39m(x, y):\n\u001b[1;32m----> <a href='vscode-notebook-cell:/c%3A/Users/mario/OneDrive/Escritorio/Algebra%20Lineal%20Computacional/Tps/TP1%20LU/tp_solucion.ipynb#X31sZmlsZQ%3D%3D?line=1'>2</a>\u001b[0m     res \u001b[39m=\u001b[39m np\u001b[39m.\u001b[39;49mlinalg\u001b[39m.\u001b[39;49mnorm(x\u001b[39m-\u001b[39;49my,\u001b[39mord\u001b[39;49m\u001b[39m=\u001b[39;49m\u001b[39m2\u001b[39;49m)\u001b[39m/\u001b[39mnp\u001b[39m.\u001b[39mlinalg\u001b[39m.\u001b[39mnorm(y,\u001b[39mord\u001b[39m\u001b[39m=\u001b[39m\u001b[39m2\u001b[39m)\n\u001b[0;32m      <a href='vscode-notebook-cell:/c%3A/Users/mario/OneDrive/Escritorio/Algebra%20Lineal%20Computacional/Tps/TP1%20LU/tp_solucion.ipynb#X31sZmlsZQ%3D%3D?line=2'>3</a>\u001b[0m     \u001b[39mreturn\u001b[39;00m res\n",
      "File \u001b[1;32m~\\AppData\\Local\\Packages\\PythonSoftwareFoundation.Python.3.11_qbz5n2kfra8p0\\LocalCache\\local-packages\\Python311\\site-packages\\numpy\\linalg\\linalg.py:2633\u001b[0m, in \u001b[0;36mnorm\u001b[1;34m(x, ord, axis, keepdims)\u001b[0m\n\u001b[0;32m   2631\u001b[0m     \u001b[39mreturn\u001b[39;00m ret\n\u001b[0;32m   2632\u001b[0m \u001b[39melse\u001b[39;00m:\n\u001b[1;32m-> 2633\u001b[0m     \u001b[39mraise\u001b[39;00m \u001b[39mValueError\u001b[39;00m(\u001b[39m\"\u001b[39m\u001b[39mImproper number of dimensions to norm.\u001b[39m\u001b[39m\"\u001b[39m)\n",
      "\u001b[1;31mValueError\u001b[0m: Improper number of dimensions to norm."
     ]
    }
   ],
   "source": [
    "#Experimento 2: resolverLUSP\n",
    "np.random.seed(1)# en cada uno de los 4 experimentos queremos usar las mismas matrices\n",
    "\n",
    "v2 = np.zeros(200)\n",
    "tiempo2 = np.zeros(200)\n",
    "\n",
    "# Buscamos errores relativos para ResolverLUSP\n",
    "for n in range(10, 201):\n",
    "    suma_errores = 0\n",
    "    start = time.time()\n",
    "    for i in range(10):\n",
    "        \n",
    "        # Definimos la matriz A, x y b tal que Ax = b\n",
    "        A = definir_matriz((n,n))\n",
    "        x = np.random.uniform(-1,1, size=(n,1))\n",
    "        b = A@x\n",
    "        \n",
    "        # Resolvemos el sistema Ax = b y calculamos el error\n",
    "        x2 = resolverLUSP(A,b)\n",
    "        x2 = np.array([x2])\n",
    "        suma_errores += np.log(error_rel_n2(A@x2.T,b))\n",
    "\n",
    "    tiempo2[n-1] = (time.time() - start)/10 # es el promedio del tiempo para calcular una matriz\n",
    "    v2[n-1] = suma_errores\n"
   ]
  },
  {
   "cell_type": "code",
   "execution_count": null,
   "metadata": {},
   "outputs": [
    {
     "data": {
      "image/png": "[encoded data removed]",
      "text/plain": [
       "<Figure size 640x480 with 1 Axes>"
      ]
     },
     "metadata": {},
     "output_type": "display_data"
    }
   ],
   "source": [
    "import matplotlib.pyplot as plt\n",
    "n = np.arange(10, len(v1))\n",
    "plt.plot(n, v1[10:], label='x = ResolverLU(A) x=b')\n",
    "plt.plot(n, v2[10:], label='x = Inversa(A) x=b')\n",
    "plt.title('Error relativo en norma 2')\n",
    "\n",
    "plt.legend()\n",
    "plt.show()\n"
   ]
  },
  {
   "cell_type": "code",
   "execution_count": null,
   "metadata": {},
   "outputs": [
    {
     "name": "stdout",
     "output_type": "stream",
     "text": [
      "Error: La Matriz tiene un 0 en la diagonal.\n",
      "[[1. 0. 0.]\n",
      " [0. 1. 0.]\n",
      " [0. 0. 1.]]\n",
      "[[1 2 3]\n",
      " [4 5 6]\n",
      " [7 8 9]]\n",
      "[[1.  0.  0.  0. ]\n",
      " [4.  1.  0.  0. ]\n",
      " [2.  0.6 1.  0. ]\n",
      " [3.  0.8 0.5 1. ]]\n",
      "[[ 1.   2.   0.   1. ]\n",
      " [ 0.  -5.   2.   1. ]\n",
      " [ 0.   0.  -1.2  1.4]\n",
      " [ 0.   0.   0.  -4.5]]\n"
     ]
    }
   ],
   "source": [
    "\n",
    "A2 = np.array([[1, 2, 3],\n",
    "               [4, 5, 6],\n",
    "               [7, 8, 9]])\n",
    "\n",
    "L2, U2 = descompLU(A2)\n",
    "\n",
    "print(L2)\n",
    "print(U2)\n",
    "\n",
    "A = np.array([[1, 2, 0, 1], \n",
    "              [4, 3, 2, 5], \n",
    "              [2, 1, 0, 4], \n",
    "              [3, 2, 1, 0]])\n",
    "\n",
    "B = np.array([[1, 2, 3],\n",
    "              [2, 4, 6],\n",
    "              [3, 6, 9]])\n",
    "\n",
    "A_res1 = np.array([[1.,  0. , 0. , 0. ],\n",
    "                   [4. , 1.,  0. , 0. ],\n",
    "                   [2. , 0.6 ,1. , 0. ],\n",
    "                   [3.,  0.8, 0.5 ,1. ]])\n",
    "\n",
    "A_res2 =  np.array([[ 1. ,  2.  , 0. ,  1. ],\n",
    "                    [ 0. , -5. ,  2.,  1. ],\n",
    "                    [ 0. ,  0.,  -1.2 , 1.4],\n",
    "                    [ 0. ,  0.,   0. , -4.]])\n",
    "L, U = descompLU(A)\n",
    "\n",
    "print(L)\n",
    "print(U)"
   ]
  },
  {
   "cell_type": "code",
   "execution_count": null,
   "metadata": {},
   "outputs": [],
   "source": [
    "#tests\n",
    "import unittest\n",
    "class TestSuite(unittest.TestCase):\n",
    "    def test_caso_1(self):\n",
    "        res1, res2 = descompLU(A)\n",
    "        self.assertEqual(res1, A_res1)\n",
    "        self.assertEqual(res2, A_res2)\n"
   ]
  }
 ],
 "metadata": {
  "kernelspec": {
   "display_name": "Python 3",
   "language": "python",
   "name": "python3"
  },
  "language_info": {
   "codemirror_mode": {
    "name": "ipython",
    "version": 3
   },
   "file_extension": ".py",
   "mimetype": "text/x-python",
   "name": "python",
   "nbconvert_exporter": "python",
   "pygments_lexer": "ipython3",
   "version": "3.11.5"
  },
  "orig_nbformat": 4
 },
 "nbformat": 4,
 "nbformat_minor": 2
}
